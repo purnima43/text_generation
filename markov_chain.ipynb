{
 "cells": [
  {
   "cell_type": "code",
   "execution_count": 89,
   "metadata": {
    "collapsed": true
   },
   "outputs": [],
   "source": [
    "import pandas as pd\n",
    "import numpy as np\n",
    "import random\n"
   ]
  },
  {
   "cell_type": "code",
   "execution_count": 90,
   "metadata": {
    "collapsed": false
   },
   "outputs": [],
   "source": [
    "f=open('sc.txt')\n",
    "ds=f.read()\n",
    "f.close()"
   ]
  },
  {
   "cell_type": "code",
   "execution_count": 91,
   "metadata": {
    "collapsed": false
   },
   "outputs": [
    {
     "name": "stdout",
     "output_type": "stream",
     "text": [
      "2673\n",
      "<type 'str'>\n"
     ]
    }
   ],
   "source": [
    "print len(ds)\n",
    "print type(ds)\n",
    "\n",
    "start = 0\n",
    "length = 1600"
   ]
  },
  {
   "cell_type": "code",
   "execution_count": 92,
   "metadata": {
    "collapsed": false
   },
   "outputs": [
    {
     "name": "stdout",
     "output_type": "stream",
     "text": [
      "introduction: today science is advancing at an amazing speed and everything of our life has changed beyond recognition. it constitutes an attempt to conquer the forces of nature and aims to give man increasing power over his surroundings.  science in daily life: in the daily life of a man science is visible. for instance, he can now travel much faster and more comfortably than in the past. bullock carts in villages and horse carriages in town are being replaced by tractors, trucks auto-carriages in and cars.similarly, quick means of communication have brought the peoples of the world together. we can talk to any person through telephone and mobiles. electronic mail (email) has made the transmission of any message across internet to any person in this world.  further, it has made the use of radio both as a means of information and recreation. in times of distress, wireless telegraphy renders extraordinary service. a plane or ship in danger can at once contact on wireless the nearest aerodrome or port and get timely help.  inventions of science: the invention of television is one of the most important event in human history. it enables men to see peoples, images thousands of miles away from them.  cinematography is also a unique gift of science. the talkies have definitely taken the place of the theatre and a large scale cinema industry has sprung up.  the trade and commerce have got a new life by the establishment of huge industrial plants. one may feel surprised if one sees how modern factories and mills run and how their products are exported to every corner of the world. \n"
     ]
    }
   ],
   "source": [
    "data = ' '.join([ix.strip() for ix in ds[start:start+length].split('\\n')]).lower()\n",
    "print data"
   ]
  },
  {
   "cell_type": "code",
   "execution_count": 93,
   "metadata": {
    "collapsed": true
   },
   "outputs": [],
   "source": [
    "x=set()\n",
    "for ix in data:\n",
    "    x.add(ix)\n"
   ]
  },
  {
   "cell_type": "code",
   "execution_count": 94,
   "metadata": {
    "collapsed": false
   },
   "outputs": [],
   "source": [
    "## Transition Matrix - Frequency Values\n",
    "T = {}\n",
    "\n",
    "## order context\n",
    "order = 3\n",
    "\n",
    "for cx in range(len(data) - order):\n",
    "    cntx = data[cx:cx+order]\n",
    "    \n",
    "    future_val = data[cx+order]\n",
    "    if T.get(cntx) is None:\n",
    "        T[cntx] = {}\n",
    "        T[cntx][future_val] = 1\n",
    "    else:\n",
    "        if T[cntx].get(future_val) is None:\n",
    "            T[cntx][future_val] = 1\n",
    "        else:\n",
    "            T[cntx][future_val] = T[cntx][future_val] + 1"
   ]
  },
  {
   "cell_type": "code",
   "execution_count": 95,
   "metadata": {
    "collapsed": false
   },
   "outputs": [],
   "source": [
    "ct=0\n",
    "for key in T.keys():\n",
    "    ct+=1\n",
    "    possible=T[key]\n",
    "    total=float(sum(T[key].values()))\n",
    "    for k in T[key].keys():\n",
    "        T[key][k]=T[key][k]/total\n",
    "        \n",
    "    \n",
    "    "
   ]
  },
  {
   "cell_type": "code",
   "execution_count": 96,
   "metadata": {
    "collapsed": true
   },
   "outputs": [],
   "source": [
    "def generate_next_character(cntx):\n",
    "    possible=T.get(cntx)\n",
    "    if possible is None:\n",
    "        return ' '\n",
    "    s_keys=possible.keys()\n",
    "    r=np.random.random()\n",
    "    #print s_keys\n",
    "    key_probs = [possible[kx] for kx in s_keys]\n",
    "    #print key_probs\n",
    "    for k in range(len(key_probs)):\n",
    "        if r< key_probs[k]:\n",
    "            return s_keys[k]\n",
    "    return random.choice(s_keys)"
   ]
  },
  {
   "cell_type": "code",
   "execution_count": 97,
   "metadata": {
    "collapsed": false
   },
   "outputs": [
    {
     "data": {
      "text/plain": [
       "' '"
      ]
     },
     "execution_count": 97,
     "metadata": {},
     "output_type": "execute_result"
    }
   ],
   "source": [
    "generate_next_character('the')"
   ]
  },
  {
   "cell_type": "code",
   "execution_count": 98,
   "metadata": {
    "collapsed": false
   },
   "outputs": [
    {
     "name": "stdout",
     "output_type": "stream",
     "text": [
      " duction of the is visibles a plane across the the paster of a placed by the may from the pastern fast. \n"
     ]
    }
   ],
   "source": [
    "context=data[5:8]\n",
    "sentence=' '+context\n",
    "for ix in range(100):\n",
    "    next_char=generate_next_character(context)\n",
    "    sentence+=next_char\n",
    "    context = sentence[-order:]\n",
    "print sentence"
   ]
  },
  {
   "cell_type": "code",
   "execution_count": null,
   "metadata": {
    "collapsed": true
   },
   "outputs": [],
   "source": []
  }
 ],
 "metadata": {
  "kernelspec": {
   "display_name": "Python 2",
   "language": "python",
   "name": "python2"
  },
  "language_info": {
   "codemirror_mode": {
    "name": "ipython",
    "version": 2
   },
   "file_extension": ".py",
   "mimetype": "text/x-python",
   "name": "python",
   "nbconvert_exporter": "python",
   "pygments_lexer": "ipython2",
   "version": "2.7.14"
  }
 },
 "nbformat": 4,
 "nbformat_minor": 0
}
